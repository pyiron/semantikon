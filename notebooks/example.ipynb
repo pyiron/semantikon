{
 "cells": [
  {
   "cell_type": "markdown",
   "id": "c44a93e4-1ce4-4a26-a82a-3d2bff41988b",
   "metadata": {},
   "source": [
    "# semantikon demo"
   ]
  },
  {
   "cell_type": "markdown",
   "id": "d1f5e73b-a3a3-4363-9866-601e3917b476",
   "metadata": {},
   "source": [
    "## Unit conversion"
   ]
  },
  {
   "cell_type": "code",
   "execution_count": 5,
   "id": "52a8cfcc",
   "metadata": {},
   "outputs": [],
   "source": [
    "from pint import UnitRegistry\n",
    "\n",
    "from semantikon.typing import u\n",
    "from semantikon.converter import units"
   ]
  },
  {
   "cell_type": "code",
   "execution_count": 7,
   "id": "88db345b-de38-457c-8d11-30801257b8c3",
   "metadata": {},
   "outputs": [],
   "source": [
    "ureg = UnitRegistry()"
   ]
  },
  {
   "cell_type": "code",
   "execution_count": 10,
   "id": "76895e39-f341-45ac-94aa-581d7be4f416",
   "metadata": {},
   "outputs": [],
   "source": [
    "def get_speed(distance: u(float, units=\"angstrom\"), time: u(float, units=\"nanosecond\")) -> u(float, units=\"angstrom/nanosecond\"):\n",
    "    return distance / time"
   ]
  },
  {
   "cell_type": "code",
   "execution_count": 21,
   "id": "a6c21388-aa57-4cad-b8ef-854a498a0462",
   "metadata": {},
   "outputs": [],
   "source": [
    "def get_kinetic_energy(mass: u(float, units=\"kilogram\"), velocity: u(float, units=\"meter/second\")) -> u(float, units=\"kilogram*meter**2/second**\"):\n",
    "    return 0.5 * mass * velocity**2"
   ]
  },
  {
   "cell_type": "code",
   "execution_count": 34,
   "id": "104668e4-4d5f-4777-97c3-9730b80578bc",
   "metadata": {},
   "outputs": [],
   "source": [
    "distance = 0.5 * ureg.meter\n",
    "time = 0.1 * ureg.second\n",
    "mass = 1.5 * ureg.kilogram"
   ]
  },
  {
   "cell_type": "code",
   "execution_count": 35,
   "id": "521363c1-5f4f-49d5-800a-edf16d4960c4",
   "metadata": {},
   "outputs": [],
   "source": [
    "velocity = get_speed(distance, time)"
   ]
  },
  {
   "cell_type": "code",
   "execution_count": 36,
   "id": "9cab5141-8b69-414c-9e56-b477990f6769",
   "metadata": {},
   "outputs": [],
   "source": [
    "energy = get_kinetic_energy(mass, velocity).to(\"eV\")"
   ]
  },
  {
   "cell_type": "code",
   "execution_count": null,
   "id": "ecad8852-d77d-4eb2-b861-29117c0639d3",
   "metadata": {},
   "outputs": [],
   "source": []
  }
 ],
 "metadata": {
  "kernelspec": {
   "display_name": "pyiron",
   "language": "python",
   "name": "pyiron"
  },
  "language_info": {
   "codemirror_mode": {
    "name": "ipython",
    "version": 3
   },
   "file_extension": ".py",
   "mimetype": "text/x-python",
   "name": "python",
   "nbconvert_exporter": "python",
   "pygments_lexer": "ipython3",
   "version": "3.11.11"
  }
 },
 "nbformat": 4,
 "nbformat_minor": 5
}
